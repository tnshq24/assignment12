{
 "cells": [
  {
   "cell_type": "code",
   "execution_count": 1,
   "id": "f1000132-889a-473a-8cea-d0ddc9320801",
   "metadata": {},
   "outputs": [],
   "source": [
    "#Q1\n",
    "# API is Application Programming Language which is used to communicate between two different environments.\n",
    "# API is sued in google maps."
   ]
  },
  {
   "cell_type": "code",
   "execution_count": 2,
   "id": "c468a167-a7f4-4d4a-883b-9eb82af33402",
   "metadata": {},
   "outputs": [],
   "source": [
    "#Q2\n",
    "# Advantages of API are:\n",
    "# Lets us communicate between different environments.\n",
    "# Improved performance\n",
    "# Better user experience\n",
    "# Improved efficiency\n",
    "\n",
    "# Disadvantages of API are:\n",
    "# Security concerns\n",
    "# Complexity\n",
    "# Dependency on third-party apps\n",
    "# Compatibilty issues"
   ]
  },
  {
   "cell_type": "code",
   "execution_count": 3,
   "id": "0ff1cc88-d14f-4dd7-a601-f2de60b09e7a",
   "metadata": {},
   "outputs": [],
   "source": [
    "#Q3\n",
    "# API is a framework that helps you to create and develop HTTP based RESTFUL services.\n",
    "# In Web API, API is deployed in aprotocol of HTTP"
   ]
  },
  {
   "cell_type": "code",
   "execution_count": 4,
   "id": "aa79d6a3-3213-4677-9155-a274c8834982",
   "metadata": {},
   "outputs": [],
   "source": [
    "#Q4\n",
    "# REST is used to build lightweight mobile applications and web applications.\n",
    "# SOAP is used for more complex building of API to communicate  between environments.\n",
    "# SHortcomings of SOAP are:\n",
    "# Web services security \n",
    "# WS-ReliableMessaging"
   ]
  },
  {
   "cell_type": "code",
   "execution_count": 5,
   "id": "515816ff-780a-47f0-afd5-4d089b7f0a76",
   "metadata": {},
   "outputs": [],
   "source": [
    "#Q5\n",
    "# REST uses set of guidelines to communicate with different enironments whereas SOAP uses protocol\n",
    "# OF XML messaging."
   ]
  }
 ],
 "metadata": {
  "kernelspec": {
   "display_name": "Python 3 (ipykernel)",
   "language": "python",
   "name": "python3"
  },
  "language_info": {
   "codemirror_mode": {
    "name": "ipython",
    "version": 3
   },
   "file_extension": ".py",
   "mimetype": "text/x-python",
   "name": "python",
   "nbconvert_exporter": "python",
   "pygments_lexer": "ipython3",
   "version": "3.10.8"
  }
 },
 "nbformat": 4,
 "nbformat_minor": 5
}
